{
  "nbformat": 4,
  "nbformat_minor": 0,
  "metadata": {
    "colab": {
      "provenance": [],
      "authorship_tag": "ABX9TyMpDcxr9A4XbHv2g3hMSIgP",
      "include_colab_link": true
    },
    "kernelspec": {
      "name": "python3",
      "display_name": "Python 3"
    },
    "language_info": {
      "name": "python"
    }
  },
  "cells": [
    {
      "cell_type": "markdown",
      "metadata": {
        "id": "view-in-github",
        "colab_type": "text"
      },
      "source": [
        "<a href=\"https://colab.research.google.com/github/Nathan-Levy/Traffic-Flow-Prediction-in-Urban-Areas/blob/main/Hamburg_Data.ipynb\" target=\"_parent\"><img src=\"https://colab.research.google.com/assets/colab-badge.svg\" alt=\"Open In Colab\"/></a>"
      ]
    },
    {
      "cell_type": "code",
      "execution_count": null,
      "metadata": {
        "id": "rnw8-7zOG31D"
      },
      "outputs": [],
      "source": [
        "import numpy as np\n",
        "import pandas as pd\n",
        "from sklearn.preprocessing import MinMaxScaler\n",
        "from sklearn.neural_network import MLPRegressor\n",
        "from sklearn.model_selection import train_test_split\n",
        "from sklearn.metrics import mean_squared_error\n",
        "from tensorflow import keras"
      ]
    },
    {
      "cell_type": "code",
      "source": [
        "man_long_lat = pd.read_csv('London_long_lat.csv')"
      ],
      "metadata": {
        "id": "GRZtq8J8RpuE"
      },
      "execution_count": null,
      "outputs": []
    },
    {
      "cell_type": "code",
      "source": [
        "print(max(man_long_lat['lat']))\n",
        "print(min(man_long_lat['lat']))\n",
        "print(max(man_long_lat['long']))\n",
        "print(min(man_long_lat['long']))"
      ],
      "metadata": {
        "colab": {
          "base_uri": "https://localhost:8080/"
        },
        "id": "gCeoV-HsRxbT",
        "outputId": "0d4f007d-8eab-421a-b904-3e758eacb077"
      },
      "execution_count": null,
      "outputs": [
        {
          "output_type": "stream",
          "name": "stdout",
          "text": [
            "51.5546463\n",
            "51.460225\n",
            "0.034174\n",
            "-0.214881\n"
          ]
        }
      ]
    },
    {
      "cell_type": "code",
      "source": [
        "hamburg_data = pd.read_csv('utd19_part_32.csv')"
      ],
      "metadata": {
        "id": "fyZi8BFnHavk"
      },
      "execution_count": null,
      "outputs": []
    },
    {
      "cell_type": "code",
      "source": [
        "filtered_data = hamburg_data[hamburg_data['detid'] == 'K34D3.1']\n",
        "print(filtered_data)"
      ],
      "metadata": {
        "colab": {
          "base_uri": "https://localhost:8080/"
        },
        "id": "BGTpZKuyHi-m",
        "outputId": "e4fcbd0d-c7a6-4d4e-e826-466dcee8f01a"
      },
      "execution_count": null,
      "outputs": [
        {
          "output_type": "stream",
          "name": "stdout",
          "text": [
            "               day  interval    detid  flow       occ  error     city  speed\n",
            "347475  2016-08-27         0  K34D3.1    80  0.036667    1.0  hamburg    NaN\n",
            "347476  2016-08-27       180  K34D3.1   120  0.043333    1.0  hamburg    NaN\n",
            "347477  2016-08-27       360  K34D3.1    60  0.060000    1.0  hamburg    NaN\n",
            "347478  2016-08-27       540  K34D3.1    40  0.110000    1.0  hamburg    NaN\n",
            "347479  2016-08-27       720  K34D3.1    20  0.013333    1.0  hamburg    NaN\n",
            "...            ...       ...      ...   ...       ...    ...      ...    ...\n",
            "397559  2016-12-09     38160  K34D3.1    40  0.476667    1.0  hamburg    NaN\n",
            "397560  2016-12-09     38340  K34D3.1    80  0.033333    1.0  hamburg    NaN\n",
            "397561  2016-12-09     38520  K34D3.1   120  0.560000    1.0  hamburg    NaN\n",
            "397562  2016-12-09     38700  K34D3.1   160  0.556667    1.0  hamburg    NaN\n",
            "397563  2016-12-09     38880  K34D3.1   100  0.836667    1.0  hamburg    NaN\n",
            "\n",
            "[50089 rows x 8 columns]\n"
          ]
        }
      ]
    },
    {
      "cell_type": "code",
      "source": [
        "filtered_data['day'] = pd.to_datetime(filtered_data['day'])\n",
        "\n",
        "filtered_data['datetime'] = filtered_data['day'] + pd.to_timedelta(filtered_data['interval'], unit='s')\n",
        "\n",
        "filtered_data.set_index(\"datetime\", inplace=True)\n",
        "\n",
        "# Keep only the relevant column\n",
        "time_flow = filtered_data[['flow']]\n",
        "\n",
        "print(time_flow)"
      ],
      "metadata": {
        "colab": {
          "base_uri": "https://localhost:8080/"
        },
        "id": "7IyC10mCiEec",
        "outputId": "4c326858-27d1-4af2-c350-140bcb39ff9f"
      },
      "execution_count": null,
      "outputs": [
        {
          "output_type": "stream",
          "name": "stdout",
          "text": [
            "                     flow\n",
            "datetime                 \n",
            "2016-08-27 00:00:00    80\n",
            "2016-08-27 00:03:00   120\n",
            "2016-08-27 00:06:00    60\n",
            "2016-08-27 00:09:00    40\n",
            "2016-08-27 00:12:00    20\n",
            "...                   ...\n",
            "2016-12-09 10:36:00    40\n",
            "2016-12-09 10:39:00    80\n",
            "2016-12-09 10:42:00   120\n",
            "2016-12-09 10:45:00   160\n",
            "2016-12-09 10:48:00   100\n",
            "\n",
            "[50089 rows x 1 columns]\n"
          ]
        },
        {
          "output_type": "stream",
          "name": "stderr",
          "text": [
            "<ipython-input-14-45bd09417db5>:1: SettingWithCopyWarning: \n",
            "A value is trying to be set on a copy of a slice from a DataFrame.\n",
            "Try using .loc[row_indexer,col_indexer] = value instead\n",
            "\n",
            "See the caveats in the documentation: https://pandas.pydata.org/pandas-docs/stable/user_guide/indexing.html#returning-a-view-versus-a-copy\n",
            "  filtered_data['day'] = pd.to_datetime(filtered_data['day'])\n",
            "<ipython-input-14-45bd09417db5>:3: SettingWithCopyWarning: \n",
            "A value is trying to be set on a copy of a slice from a DataFrame.\n",
            "Try using .loc[row_indexer,col_indexer] = value instead\n",
            "\n",
            "See the caveats in the documentation: https://pandas.pydata.org/pandas-docs/stable/user_guide/indexing.html#returning-a-view-versus-a-copy\n",
            "  filtered_data['datetime'] = filtered_data['day'] + pd.to_timedelta(filtered_data['interval'], unit='s')\n"
          ]
        }
      ]
    },
    {
      "cell_type": "code",
      "source": [
        "# Normalise\n",
        "scaler = MinMaxScaler()\n",
        "flow_normalised = scaler.fit_transform(time_flow)"
      ],
      "metadata": {
        "id": "72ROgDurhTKS"
      },
      "execution_count": null,
      "outputs": []
    },
    {
      "cell_type": "code",
      "source": [
        "# Train and validation split\n",
        "\n",
        "train = len(flow_normalised)*0.8\n",
        "X_train, X_val, = flow_normalised[:int(train)], flow_normalised[int(train):]"
      ],
      "metadata": {
        "id": "q0oy407Kivx1"
      },
      "execution_count": null,
      "outputs": []
    },
    {
      "cell_type": "code",
      "source": [
        "def create_dataset(dataset, look_back):\n",
        "    X, y = [], []\n",
        "    for i in range(len(dataset) - look_back):\n",
        "        X.append(dataset[i:(i + look_back), 0])\n",
        "        y.append(dataset[i + look_back, 0])\n",
        "    return np.array(X), np.array(y)\n",
        "\n",
        "look_back = 12\n",
        "X_train, y_train = create_dataset(X_train, look_back)\n",
        "X_val, y_val = create_dataset(X_val, look_back)"
      ],
      "metadata": {
        "colab": {
          "base_uri": "https://localhost:8080/"
        },
        "id": "6Q5ir8tAiyJ4",
        "outputId": "5acb1625-6e0c-4ce6-a5aa-05afa7934cbc"
      },
      "execution_count": null,
      "outputs": [
        {
          "output_type": "stream",
          "name": "stdout",
          "text": [
            "[[0.14285714 0.21428571 0.10714286 0.07142857 0.03571429 0.03571429\n",
            "  0.25       0.21428571 0.03571429 0.25       0.21428571 0.10714286]\n",
            " [0.21428571 0.10714286 0.07142857 0.03571429 0.03571429 0.25\n",
            "  0.21428571 0.03571429 0.25       0.21428571 0.10714286 0.07142857]\n",
            " [0.10714286 0.07142857 0.03571429 0.03571429 0.25       0.21428571\n",
            "  0.03571429 0.25       0.21428571 0.10714286 0.07142857 0.07142857]\n",
            " [0.07142857 0.03571429 0.03571429 0.25       0.21428571 0.03571429\n",
            "  0.25       0.21428571 0.10714286 0.07142857 0.07142857 0.14285714]\n",
            " [0.03571429 0.03571429 0.25       0.21428571 0.03571429 0.25\n",
            "  0.21428571 0.10714286 0.07142857 0.07142857 0.14285714 0.10714286]]\n"
          ]
        }
      ]
    },
    {
      "cell_type": "code",
      "source": [
        "# [samples, time steps, features]\n",
        "X_train = X_train.reshape(X_train.shape[0], X_train.shape[1], 1)\n",
        "X_val = X_val.reshape(X_val.shape[0], X_val.shape[1], 1)"
      ],
      "metadata": {
        "id": "mYe8xUGEi2YO"
      },
      "execution_count": null,
      "outputs": []
    },
    {
      "cell_type": "code",
      "source": [
        "input_layer = keras.layers.Input(shape=(look_back, 1))\n",
        "encoded = keras.layers.LSTM(64, activation='relu', return_sequences=True)(input_layer)\n",
        "encoded = keras.layers.LSTM(32, activation='relu', return_sequences=False)(encoded)\n",
        "\n",
        "# Decoder\n",
        "decoded = keras.layers.Dense(64, activation='relu')(encoded)\n",
        "decoded = keras.layers.Dense(look_back, activation='linear')(decoded)\n",
        "\n",
        "# Autoencoder Model\n",
        "autoencoder = keras.models.Model(inputs=input_layer, outputs=decoded)\n",
        "\n",
        "# Compile the autoencoder\n",
        "autoencoder.compile(optimizer='adam', loss='mse')\n",
        "\n",
        "autoencoder.summary()"
      ],
      "metadata": {
        "colab": {
          "base_uri": "https://localhost:8080/",
          "height": 295
        },
        "id": "ytIjHT9fi4Vt",
        "outputId": "89982e5c-bbd2-4a52-b614-3d7022369e6b"
      },
      "execution_count": null,
      "outputs": [
        {
          "output_type": "display_data",
          "data": {
            "text/plain": [
              "\u001b[1mModel: \"functional\"\u001b[0m\n"
            ],
            "text/html": [
              "<pre style=\"white-space:pre;overflow-x:auto;line-height:normal;font-family:Menlo,'DejaVu Sans Mono',consolas,'Courier New',monospace\"><span style=\"font-weight: bold\">Model: \"functional\"</span>\n",
              "</pre>\n"
            ]
          },
          "metadata": {}
        },
        {
          "output_type": "display_data",
          "data": {
            "text/plain": [
              "┏━━━━━━━━━━━━━━━━━━━━━━━━━━━━━━━━━━━━━━┳━━━━━━━━━━━━━━━━━━━━━━━━━━━━━┳━━━━━━━━━━━━━━━━━┓\n",
              "┃\u001b[1m \u001b[0m\u001b[1mLayer (type)                        \u001b[0m\u001b[1m \u001b[0m┃\u001b[1m \u001b[0m\u001b[1mOutput Shape               \u001b[0m\u001b[1m \u001b[0m┃\u001b[1m \u001b[0m\u001b[1m        Param #\u001b[0m\u001b[1m \u001b[0m┃\n",
              "┡━━━━━━━━━━━━━━━━━━━━━━━━━━━━━━━━━━━━━━╇━━━━━━━━━━━━━━━━━━━━━━━━━━━━━╇━━━━━━━━━━━━━━━━━┩\n",
              "│ input_layer (\u001b[38;5;33mInputLayer\u001b[0m)             │ (\u001b[38;5;45mNone\u001b[0m, \u001b[38;5;34m12\u001b[0m, \u001b[38;5;34m1\u001b[0m)               │               \u001b[38;5;34m0\u001b[0m │\n",
              "├──────────────────────────────────────┼─────────────────────────────┼─────────────────┤\n",
              "│ lstm (\u001b[38;5;33mLSTM\u001b[0m)                          │ (\u001b[38;5;45mNone\u001b[0m, \u001b[38;5;34m12\u001b[0m, \u001b[38;5;34m64\u001b[0m)              │          \u001b[38;5;34m16,896\u001b[0m │\n",
              "├──────────────────────────────────────┼─────────────────────────────┼─────────────────┤\n",
              "│ lstm_1 (\u001b[38;5;33mLSTM\u001b[0m)                        │ (\u001b[38;5;45mNone\u001b[0m, \u001b[38;5;34m32\u001b[0m)                  │          \u001b[38;5;34m12,416\u001b[0m │\n",
              "├──────────────────────────────────────┼─────────────────────────────┼─────────────────┤\n",
              "│ dense (\u001b[38;5;33mDense\u001b[0m)                        │ (\u001b[38;5;45mNone\u001b[0m, \u001b[38;5;34m64\u001b[0m)                  │           \u001b[38;5;34m2,112\u001b[0m │\n",
              "├──────────────────────────────────────┼─────────────────────────────┼─────────────────┤\n",
              "│ dense_1 (\u001b[38;5;33mDense\u001b[0m)                      │ (\u001b[38;5;45mNone\u001b[0m, \u001b[38;5;34m12\u001b[0m)                  │             \u001b[38;5;34m780\u001b[0m │\n",
              "└──────────────────────────────────────┴─────────────────────────────┴─────────────────┘\n"
            ],
            "text/html": [
              "<pre style=\"white-space:pre;overflow-x:auto;line-height:normal;font-family:Menlo,'DejaVu Sans Mono',consolas,'Courier New',monospace\">┏━━━━━━━━━━━━━━━━━━━━━━━━━━━━━━━━━━━━━━┳━━━━━━━━━━━━━━━━━━━━━━━━━━━━━┳━━━━━━━━━━━━━━━━━┓\n",
              "┃<span style=\"font-weight: bold\"> Layer (type)                         </span>┃<span style=\"font-weight: bold\"> Output Shape                </span>┃<span style=\"font-weight: bold\">         Param # </span>┃\n",
              "┡━━━━━━━━━━━━━━━━━━━━━━━━━━━━━━━━━━━━━━╇━━━━━━━━━━━━━━━━━━━━━━━━━━━━━╇━━━━━━━━━━━━━━━━━┩\n",
              "│ input_layer (<span style=\"color: #0087ff; text-decoration-color: #0087ff\">InputLayer</span>)             │ (<span style=\"color: #00d7ff; text-decoration-color: #00d7ff\">None</span>, <span style=\"color: #00af00; text-decoration-color: #00af00\">12</span>, <span style=\"color: #00af00; text-decoration-color: #00af00\">1</span>)               │               <span style=\"color: #00af00; text-decoration-color: #00af00\">0</span> │\n",
              "├──────────────────────────────────────┼─────────────────────────────┼─────────────────┤\n",
              "│ lstm (<span style=\"color: #0087ff; text-decoration-color: #0087ff\">LSTM</span>)                          │ (<span style=\"color: #00d7ff; text-decoration-color: #00d7ff\">None</span>, <span style=\"color: #00af00; text-decoration-color: #00af00\">12</span>, <span style=\"color: #00af00; text-decoration-color: #00af00\">64</span>)              │          <span style=\"color: #00af00; text-decoration-color: #00af00\">16,896</span> │\n",
              "├──────────────────────────────────────┼─────────────────────────────┼─────────────────┤\n",
              "│ lstm_1 (<span style=\"color: #0087ff; text-decoration-color: #0087ff\">LSTM</span>)                        │ (<span style=\"color: #00d7ff; text-decoration-color: #00d7ff\">None</span>, <span style=\"color: #00af00; text-decoration-color: #00af00\">32</span>)                  │          <span style=\"color: #00af00; text-decoration-color: #00af00\">12,416</span> │\n",
              "├──────────────────────────────────────┼─────────────────────────────┼─────────────────┤\n",
              "│ dense (<span style=\"color: #0087ff; text-decoration-color: #0087ff\">Dense</span>)                        │ (<span style=\"color: #00d7ff; text-decoration-color: #00d7ff\">None</span>, <span style=\"color: #00af00; text-decoration-color: #00af00\">64</span>)                  │           <span style=\"color: #00af00; text-decoration-color: #00af00\">2,112</span> │\n",
              "├──────────────────────────────────────┼─────────────────────────────┼─────────────────┤\n",
              "│ dense_1 (<span style=\"color: #0087ff; text-decoration-color: #0087ff\">Dense</span>)                      │ (<span style=\"color: #00d7ff; text-decoration-color: #00d7ff\">None</span>, <span style=\"color: #00af00; text-decoration-color: #00af00\">12</span>)                  │             <span style=\"color: #00af00; text-decoration-color: #00af00\">780</span> │\n",
              "└──────────────────────────────────────┴─────────────────────────────┴─────────────────┘\n",
              "</pre>\n"
            ]
          },
          "metadata": {}
        },
        {
          "output_type": "display_data",
          "data": {
            "text/plain": [
              "\u001b[1m Total params: \u001b[0m\u001b[38;5;34m32,204\u001b[0m (125.80 KB)\n"
            ],
            "text/html": [
              "<pre style=\"white-space:pre;overflow-x:auto;line-height:normal;font-family:Menlo,'DejaVu Sans Mono',consolas,'Courier New',monospace\"><span style=\"font-weight: bold\"> Total params: </span><span style=\"color: #00af00; text-decoration-color: #00af00\">32,204</span> (125.80 KB)\n",
              "</pre>\n"
            ]
          },
          "metadata": {}
        },
        {
          "output_type": "display_data",
          "data": {
            "text/plain": [
              "\u001b[1m Trainable params: \u001b[0m\u001b[38;5;34m32,204\u001b[0m (125.80 KB)\n"
            ],
            "text/html": [
              "<pre style=\"white-space:pre;overflow-x:auto;line-height:normal;font-family:Menlo,'DejaVu Sans Mono',consolas,'Courier New',monospace\"><span style=\"font-weight: bold\"> Trainable params: </span><span style=\"color: #00af00; text-decoration-color: #00af00\">32,204</span> (125.80 KB)\n",
              "</pre>\n"
            ]
          },
          "metadata": {}
        },
        {
          "output_type": "display_data",
          "data": {
            "text/plain": [
              "\u001b[1m Non-trainable params: \u001b[0m\u001b[38;5;34m0\u001b[0m (0.00 B)\n"
            ],
            "text/html": [
              "<pre style=\"white-space:pre;overflow-x:auto;line-height:normal;font-family:Menlo,'DejaVu Sans Mono',consolas,'Courier New',monospace\"><span style=\"font-weight: bold\"> Non-trainable params: </span><span style=\"color: #00af00; text-decoration-color: #00af00\">0</span> (0.00 B)\n",
              "</pre>\n"
            ]
          },
          "metadata": {}
        }
      ]
    },
    {
      "cell_type": "code",
      "source": [
        "# Train the autoencoder\n",
        "autoencoder.fit(X_train, X_train, epochs=20, validation_data=[X_val, X_val])"
      ],
      "metadata": {
        "colab": {
          "base_uri": "https://localhost:8080/"
        },
        "id": "qFagMTYfi7jv",
        "outputId": "b1499f1d-7922-429a-edcc-87d49f2ca995"
      },
      "execution_count": null,
      "outputs": [
        {
          "output_type": "stream",
          "name": "stdout",
          "text": [
            "Epoch 1/20\n",
            "\u001b[1m1252/1252\u001b[0m \u001b[32m━━━━━━━━━━━━━━━━━━━━\u001b[0m\u001b[37m\u001b[0m \u001b[1m26s\u001b[0m 18ms/step - loss: 0.0073 - val_loss: 0.0051\n",
            "Epoch 2/20\n",
            "\u001b[1m1252/1252\u001b[0m \u001b[32m━━━━━━━━━━━━━━━━━━━━\u001b[0m\u001b[37m\u001b[0m \u001b[1m21s\u001b[0m 17ms/step - loss: 0.0040 - val_loss: 0.0038\n",
            "Epoch 3/20\n",
            "\u001b[1m1252/1252\u001b[0m \u001b[32m━━━━━━━━━━━━━━━━━━━━\u001b[0m\u001b[37m\u001b[0m \u001b[1m41s\u001b[0m 16ms/step - loss: 0.0028 - val_loss: 0.0020\n",
            "Epoch 4/20\n",
            "\u001b[1m1252/1252\u001b[0m \u001b[32m━━━━━━━━━━━━━━━━━━━━\u001b[0m\u001b[37m\u001b[0m \u001b[1m40s\u001b[0m 16ms/step - loss: 0.0015 - val_loss: 0.0013\n",
            "Epoch 5/20\n",
            "\u001b[1m1252/1252\u001b[0m \u001b[32m━━━━━━━━━━━━━━━━━━━━\u001b[0m\u001b[37m\u001b[0m \u001b[1m25s\u001b[0m 20ms/step - loss: 0.0010 - val_loss: 7.9302e-04\n",
            "Epoch 6/20\n",
            "\u001b[1m1252/1252\u001b[0m \u001b[32m━━━━━━━━━━━━━━━━━━━━\u001b[0m\u001b[37m\u001b[0m \u001b[1m37s\u001b[0m 17ms/step - loss: 6.1559e-04 - val_loss: 6.9482e-04\n",
            "Epoch 7/20\n",
            "\u001b[1m1252/1252\u001b[0m \u001b[32m━━━━━━━━━━━━━━━━━━━━\u001b[0m\u001b[37m\u001b[0m \u001b[1m20s\u001b[0m 16ms/step - loss: 5.6189e-04 - val_loss: 7.1274e-04\n",
            "Epoch 8/20\n",
            "\u001b[1m1252/1252\u001b[0m \u001b[32m━━━━━━━━━━━━━━━━━━━━\u001b[0m\u001b[37m\u001b[0m \u001b[1m19s\u001b[0m 15ms/step - loss: 4.8727e-04 - val_loss: 1.0480e-04\n",
            "Epoch 9/20\n",
            "\u001b[1m1252/1252\u001b[0m \u001b[32m━━━━━━━━━━━━━━━━━━━━\u001b[0m\u001b[37m\u001b[0m \u001b[1m20s\u001b[0m 16ms/step - loss: 9.2706e-05 - val_loss: 5.5245e-05\n",
            "Epoch 10/20\n",
            "\u001b[1m1252/1252\u001b[0m \u001b[32m━━━━━━━━━━━━━━━━━━━━\u001b[0m\u001b[37m\u001b[0m \u001b[1m19s\u001b[0m 15ms/step - loss: 6.2973e-05 - val_loss: 4.3617e-05\n",
            "Epoch 11/20\n",
            "\u001b[1m1252/1252\u001b[0m \u001b[32m━━━━━━━━━━━━━━━━━━━━\u001b[0m\u001b[37m\u001b[0m \u001b[1m22s\u001b[0m 16ms/step - loss: 4.7686e-05 - val_loss: 3.5726e-05\n",
            "Epoch 12/20\n",
            "\u001b[1m1252/1252\u001b[0m \u001b[32m━━━━━━━━━━━━━━━━━━━━\u001b[0m\u001b[37m\u001b[0m \u001b[1m19s\u001b[0m 15ms/step - loss: 4.3345e-05 - val_loss: 1.6500e-04\n",
            "Epoch 13/20\n",
            "\u001b[1m1252/1252\u001b[0m \u001b[32m━━━━━━━━━━━━━━━━━━━━\u001b[0m\u001b[37m\u001b[0m \u001b[1m22s\u001b[0m 16ms/step - loss: 4.0640e-05 - val_loss: 4.1541e-05\n",
            "Epoch 14/20\n",
            "\u001b[1m1252/1252\u001b[0m \u001b[32m━━━━━━━━━━━━━━━━━━━━\u001b[0m\u001b[37m\u001b[0m \u001b[1m41s\u001b[0m 17ms/step - loss: 3.9925e-05 - val_loss: 3.5103e-05\n",
            "Epoch 15/20\n",
            "\u001b[1m1252/1252\u001b[0m \u001b[32m━━━━━━━━━━━━━━━━━━━━\u001b[0m\u001b[37m\u001b[0m \u001b[1m19s\u001b[0m 15ms/step - loss: 3.8386e-05 - val_loss: 2.6938e-05\n",
            "Epoch 16/20\n",
            "\u001b[1m1252/1252\u001b[0m \u001b[32m━━━━━━━━━━━━━━━━━━━━\u001b[0m\u001b[37m\u001b[0m \u001b[1m22s\u001b[0m 16ms/step - loss: 2.9504e-05 - val_loss: 3.7462e-05\n",
            "Epoch 17/20\n",
            "\u001b[1m1252/1252\u001b[0m \u001b[32m━━━━━━━━━━━━━━━━━━━━\u001b[0m\u001b[37m\u001b[0m \u001b[1m20s\u001b[0m 16ms/step - loss: 2.7665e-05 - val_loss: 2.5263e-05\n",
            "Epoch 18/20\n",
            "\u001b[1m1252/1252\u001b[0m \u001b[32m━━━━━━━━━━━━━━━━━━━━\u001b[0m\u001b[37m\u001b[0m \u001b[1m25s\u001b[0m 19ms/step - loss: 2.7395e-05 - val_loss: 2.8951e-05\n",
            "Epoch 19/20\n",
            "\u001b[1m1252/1252\u001b[0m \u001b[32m━━━━━━━━━━━━━━━━━━━━\u001b[0m\u001b[37m\u001b[0m \u001b[1m36s\u001b[0m 16ms/step - loss: 2.6108e-05 - val_loss: 2.0021e-05\n",
            "Epoch 20/20\n",
            "\u001b[1m1252/1252\u001b[0m \u001b[32m━━━━━━━━━━━━━━━━━━━━\u001b[0m\u001b[37m\u001b[0m \u001b[1m21s\u001b[0m 16ms/step - loss: 2.8576e-05 - val_loss: 2.2973e-05\n"
          ]
        },
        {
          "output_type": "execute_result",
          "data": {
            "text/plain": [
              "<keras.src.callbacks.history.History at 0x7e3f3d7d1f60>"
            ]
          },
          "metadata": {},
          "execution_count": 20
        }
      ]
    },
    {
      "cell_type": "code",
      "source": [
        "# Extract the encoder model\n",
        "encoder = keras.models.Model(inputs=input_layer, outputs=encoded)\n",
        "\n",
        "# Generate the encoded features\n",
        "encoded_features = encoder.predict(X_train)\n",
        "encoded_features_val = encoder.predict(X_val)"
      ],
      "metadata": {
        "colab": {
          "base_uri": "https://localhost:8080/"
        },
        "id": "a4OXvY1bi--N",
        "outputId": "ebe2b1ca-ce31-4522-f688-c75f14792307"
      },
      "execution_count": null,
      "outputs": [
        {
          "output_type": "stream",
          "name": "stdout",
          "text": [
            "\u001b[1m1252/1252\u001b[0m \u001b[32m━━━━━━━━━━━━━━━━━━━━\u001b[0m\u001b[37m\u001b[0m \u001b[1m7s\u001b[0m 5ms/step\n",
            "\u001b[1m313/313\u001b[0m \u001b[32m━━━━━━━━━━━━━━━━━━━━\u001b[0m\u001b[37m\u001b[0m \u001b[1m2s\u001b[0m 5ms/step\n"
          ]
        }
      ]
    },
    {
      "cell_type": "code",
      "source": [
        "# Define the prediction model\n",
        "prediction_model = keras.models.Sequential()\n",
        "prediction_model.add(keras.layers.Dense(16, activation='relu', input_dim=encoded_features.shape[1]))\n",
        "prediction_model.add(keras.layers.Dense(8, activation='relu'))\n",
        "prediction_model.add(keras.layers.Dense(1, activation='linear'))\n",
        "\n",
        "# Compile the prediction model\n",
        "prediction_model.compile(optimizer='adam', loss='mse')\n",
        "\n",
        "# Train the prediction model\n",
        "prediction_model.fit(encoded_features, y_train, epochs=20, validation_data=(encoded_features_val, y_val))"
      ],
      "metadata": {
        "colab": {
          "base_uri": "https://localhost:8080/"
        },
        "id": "DcM1CwsNjBm9",
        "outputId": "950879c8-fed5-4860-a9ce-e5d6dae5092b"
      },
      "execution_count": null,
      "outputs": [
        {
          "output_type": "stream",
          "name": "stdout",
          "text": [
            "Epoch 1/20\n"
          ]
        },
        {
          "output_type": "stream",
          "name": "stderr",
          "text": [
            "/usr/local/lib/python3.10/dist-packages/keras/src/layers/core/dense.py:87: UserWarning: Do not pass an `input_shape`/`input_dim` argument to a layer. When using Sequential models, prefer using an `Input(shape)` object as the first layer in the model instead.\n",
            "  super().__init__(activity_regularizer=activity_regularizer, **kwargs)\n"
          ]
        },
        {
          "output_type": "stream",
          "name": "stdout",
          "text": [
            "\u001b[1m1252/1252\u001b[0m \u001b[32m━━━━━━━━━━━━━━━━━━━━\u001b[0m\u001b[37m\u001b[0m \u001b[1m4s\u001b[0m 2ms/step - loss: 0.0107 - val_loss: 0.0085\n",
            "Epoch 2/20\n",
            "\u001b[1m1252/1252\u001b[0m \u001b[32m━━━━━━━━━━━━━━━━━━━━\u001b[0m\u001b[37m\u001b[0m \u001b[1m5s\u001b[0m 2ms/step - loss: 0.0070 - val_loss: 0.0084\n",
            "Epoch 3/20\n",
            "\u001b[1m1252/1252\u001b[0m \u001b[32m━━━━━━━━━━━━━━━━━━━━\u001b[0m\u001b[37m\u001b[0m \u001b[1m5s\u001b[0m 2ms/step - loss: 0.0072 - val_loss: 0.0083\n",
            "Epoch 4/20\n",
            "\u001b[1m1252/1252\u001b[0m \u001b[32m━━━━━━━━━━━━━━━━━━━━\u001b[0m\u001b[37m\u001b[0m \u001b[1m3s\u001b[0m 2ms/step - loss: 0.0069 - val_loss: 0.0083\n",
            "Epoch 5/20\n",
            "\u001b[1m1252/1252\u001b[0m \u001b[32m━━━━━━━━━━━━━━━━━━━━\u001b[0m\u001b[37m\u001b[0m \u001b[1m5s\u001b[0m 2ms/step - loss: 0.0070 - val_loss: 0.0082\n",
            "Epoch 6/20\n",
            "\u001b[1m1252/1252\u001b[0m \u001b[32m━━━━━━━━━━━━━━━━━━━━\u001b[0m\u001b[37m\u001b[0m \u001b[1m3s\u001b[0m 3ms/step - loss: 0.0069 - val_loss: 0.0082\n",
            "Epoch 7/20\n",
            "\u001b[1m1252/1252\u001b[0m \u001b[32m━━━━━━━━━━━━━━━━━━━━\u001b[0m\u001b[37m\u001b[0m \u001b[1m4s\u001b[0m 2ms/step - loss: 0.0070 - val_loss: 0.0082\n",
            "Epoch 8/20\n",
            "\u001b[1m1252/1252\u001b[0m \u001b[32m━━━━━━━━━━━━━━━━━━━━\u001b[0m\u001b[37m\u001b[0m \u001b[1m5s\u001b[0m 2ms/step - loss: 0.0069 - val_loss: 0.0082\n",
            "Epoch 9/20\n",
            "\u001b[1m1252/1252\u001b[0m \u001b[32m━━━━━━━━━━━━━━━━━━━━\u001b[0m\u001b[37m\u001b[0m \u001b[1m4s\u001b[0m 3ms/step - loss: 0.0070 - val_loss: 0.0082\n",
            "Epoch 10/20\n",
            "\u001b[1m1252/1252\u001b[0m \u001b[32m━━━━━━━━━━━━━━━━━━━━\u001b[0m\u001b[37m\u001b[0m \u001b[1m4s\u001b[0m 2ms/step - loss: 0.0069 - val_loss: 0.0082\n",
            "Epoch 11/20\n",
            "\u001b[1m1252/1252\u001b[0m \u001b[32m━━━━━━━━━━━━━━━━━━━━\u001b[0m\u001b[37m\u001b[0m \u001b[1m3s\u001b[0m 2ms/step - loss: 0.0069 - val_loss: 0.0082\n",
            "Epoch 12/20\n",
            "\u001b[1m1252/1252\u001b[0m \u001b[32m━━━━━━━━━━━━━━━━━━━━\u001b[0m\u001b[37m\u001b[0m \u001b[1m5s\u001b[0m 3ms/step - loss: 0.0068 - val_loss: 0.0088\n",
            "Epoch 13/20\n",
            "\u001b[1m1252/1252\u001b[0m \u001b[32m━━━━━━━━━━━━━━━━━━━━\u001b[0m\u001b[37m\u001b[0m \u001b[1m4s\u001b[0m 2ms/step - loss: 0.0069 - val_loss: 0.0084\n",
            "Epoch 14/20\n",
            "\u001b[1m1252/1252\u001b[0m \u001b[32m━━━━━━━━━━━━━━━━━━━━\u001b[0m\u001b[37m\u001b[0m \u001b[1m3s\u001b[0m 2ms/step - loss: 0.0069 - val_loss: 0.0084\n",
            "Epoch 15/20\n",
            "\u001b[1m1252/1252\u001b[0m \u001b[32m━━━━━━━━━━━━━━━━━━━━\u001b[0m\u001b[37m\u001b[0m \u001b[1m6s\u001b[0m 3ms/step - loss: 0.0069 - val_loss: 0.0083\n",
            "Epoch 16/20\n",
            "\u001b[1m1252/1252\u001b[0m \u001b[32m━━━━━━━━━━━━━━━━━━━━\u001b[0m\u001b[37m\u001b[0m \u001b[1m3s\u001b[0m 3ms/step - loss: 0.0069 - val_loss: 0.0082\n",
            "Epoch 17/20\n",
            "\u001b[1m1252/1252\u001b[0m \u001b[32m━━━━━━━━━━━━━━━━━━━━\u001b[0m\u001b[37m\u001b[0m \u001b[1m2s\u001b[0m 2ms/step - loss: 0.0069 - val_loss: 0.0082\n",
            "Epoch 18/20\n",
            "\u001b[1m1252/1252\u001b[0m \u001b[32m━━━━━━━━━━━━━━━━━━━━\u001b[0m\u001b[37m\u001b[0m \u001b[1m3s\u001b[0m 2ms/step - loss: 0.0068 - val_loss: 0.0083\n",
            "Epoch 19/20\n",
            "\u001b[1m1252/1252\u001b[0m \u001b[32m━━━━━━━━━━━━━━━━━━━━\u001b[0m\u001b[37m\u001b[0m \u001b[1m3s\u001b[0m 2ms/step - loss: 0.0069 - val_loss: 0.0082\n",
            "Epoch 20/20\n",
            "\u001b[1m1252/1252\u001b[0m \u001b[32m━━━━━━━━━━━━━━━━━━━━\u001b[0m\u001b[37m\u001b[0m \u001b[1m4s\u001b[0m 3ms/step - loss: 0.0069 - val_loss: 0.0082\n"
          ]
        },
        {
          "output_type": "execute_result",
          "data": {
            "text/plain": [
              "<keras.src.callbacks.history.History at 0x7e3f3a545030>"
            ]
          },
          "metadata": {},
          "execution_count": 22
        }
      ]
    },
    {
      "cell_type": "code",
      "source": [
        "# Use the prediction model to make predictions\n",
        "y_pred = prediction_model.predict(encoded_features_val)\n",
        "\n",
        "# Inverse transform the predictions to the original scale\n",
        "y_pred_rescaled = scaler.inverse_transform(y_pred.reshape(-1, 1))"
      ],
      "metadata": {
        "colab": {
          "base_uri": "https://localhost:8080/"
        },
        "id": "9g4Ql5qYjD8c",
        "outputId": "57abc4d0-5f54-4cee-d7cb-ea1053a5950e"
      },
      "execution_count": null,
      "outputs": [
        {
          "output_type": "stream",
          "name": "stdout",
          "text": [
            "\u001b[1m313/313\u001b[0m \u001b[32m━━━━━━━━━━━━━━━━━━━━\u001b[0m\u001b[37m\u001b[0m \u001b[1m1s\u001b[0m 2ms/step\n"
          ]
        }
      ]
    },
    {
      "cell_type": "code",
      "source": [
        "# timestamps from validation set.\n",
        "timestamps = time_flow.index[-len(y_val):]\n",
        "\n",
        "import matplotlib.pyplot as plt\n",
        "\n",
        "# Rescale the predicted values and actual values to their original scale\n",
        "y_test_rescaled = scaler.inverse_transform(y_val.reshape(-1, 1))\n",
        "y_pred_rescaled = scaler.inverse_transform(y_pred.reshape(-1, 1))\n",
        "\n",
        "plt.figure(figsize=(12, 6))\n",
        "plt.plot(timestamps[:50], y_test_rescaled[:50], label='Actual Traffic Flow', color='blue')\n",
        "plt.plot(timestamps[:50], y_pred_rescaled[:50], label='Predicted Traffic Flow', color='red', linestyle='--')\n",
        "plt.xlabel('Time')\n",
        "plt.ylabel('Traffic Flow (Veh/3 Minutes)')\n",
        "plt.title('Predicted vs Actual Traffic Flow')\n",
        "plt.legend()\n",
        "plt.show()\n"
      ],
      "metadata": {
        "colab": {
          "base_uri": "https://localhost:8080/",
          "height": 499
        },
        "id": "bZ9DzCVKjGMs",
        "outputId": "0e0d7c48-5c12-45b3-fe28-5c34ee862e42"
      },
      "execution_count": null,
      "outputs": [
        {
          "output_type": "display_data",
          "data": {
            "text/plain": [
              "<Figure size 1200x600 with 1 Axes>"
            ],
            "image/png": "[encoded data removed]"
          },
          "metadata": {}
        }
      ]
    },
    {
      "cell_type": "code",
      "source": [
        "y_test_rescaled[:10]\n"
      ],
      "metadata": {
        "id": "3XyObiPJkECs",
        "colab": {
          "base_uri": "https://localhost:8080/"
        },
        "outputId": "7b78343f-f9a5-483e-a2e1-e6e998548da8"
      },
      "execution_count": null,
      "outputs": [
        {
          "output_type": "execute_result",
          "data": {
            "text/plain": [
              "array([[120.],\n",
              "       [220.],\n",
              "       [ 60.],\n",
              "       [160.],\n",
              "       [ 80.],\n",
              "       [160.],\n",
              "       [280.],\n",
              "       [140.],\n",
              "       [160.],\n",
              "       [140.]])"
            ]
          },
          "metadata": {},
          "execution_count": 27
        }
      ]
    },
    {
      "cell_type": "code",
      "source": [
        "y_pred_rescaled[:10]"
      ],
      "metadata": {
        "colab": {
          "base_uri": "https://localhost:8080/"
        },
        "id": "pZWPf1_XUhxN",
        "outputId": "2f5abf7a-a8f1-431a-8c32-a50fdb95dde1"
      },
      "execution_count": null,
      "outputs": [
        {
          "output_type": "execute_result",
          "data": {
            "text/plain": [
              "array([[140.25421],\n",
              "       [131.02573],\n",
              "       [143.5249 ],\n",
              "       [132.84918],\n",
              "       [138.51544],\n",
              "       [131.94485],\n",
              "       [132.5008 ],\n",
              "       [146.70747],\n",
              "       [144.32356],\n",
              "       [147.96237]], dtype=float32)"
            ]
          },
          "metadata": {},
          "execution_count": 28
        }
      ]
    },
    {
      "cell_type": "code",
      "source": [],
      "metadata": {
        "id": "Wh8pTx3hXFGv"
      },
      "execution_count": null,
      "outputs": []
    }
  ]
}